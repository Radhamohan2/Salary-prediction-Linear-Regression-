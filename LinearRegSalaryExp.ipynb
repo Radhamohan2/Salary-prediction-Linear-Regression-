{
 "cells": [
  {
   "cell_type": "code",
   "execution_count": 1,
   "metadata": {},
   "outputs": [],
   "source": [
    "#importing the packages\n",
    "import pandas as pd\n",
    "import numpy as np\n",
    "import matplotlib.pyplot as plt"
   ]
  },
  {
   "cell_type": "code",
   "execution_count": 23,
   "metadata": {},
   "outputs": [
    {
     "data": {
      "text/plain": [
       "array([[ 1.1],\n",
       "       [ 1.3],\n",
       "       [ 1.5],\n",
       "       [ 2. ],\n",
       "       [ 2.2],\n",
       "       [ 2.9],\n",
       "       [ 3. ],\n",
       "       [ 3.2],\n",
       "       [ 3.2],\n",
       "       [ 3.7],\n",
       "       [ 3.9],\n",
       "       [ 4. ],\n",
       "       [ 4. ],\n",
       "       [ 4.1],\n",
       "       [ 4.5],\n",
       "       [ 4.9],\n",
       "       [ 5.1],\n",
       "       [ 5.3],\n",
       "       [ 5.9],\n",
       "       [ 6. ],\n",
       "       [ 6.8],\n",
       "       [ 7.1],\n",
       "       [ 7.9],\n",
       "       [ 8.2],\n",
       "       [ 8.7],\n",
       "       [ 9. ],\n",
       "       [ 9.5],\n",
       "       [ 9.6],\n",
       "       [10.3],\n",
       "       [10.5]])"
      ]
     },
     "execution_count": 23,
     "metadata": {},
     "output_type": "execute_result"
    }
   ],
   "source": [
    "#reading the dataset\n",
    "data=pd.read_csv('Salary_Data.csv')\n",
    "#independent value\n",
    "X=data.iloc[:,:-1].values\n",
    "#dependent value\n",
    "Y=data.iloc[:,-1].values\n",
    "X\n"
   ]
  },
  {
   "cell_type": "code",
   "execution_count": 81,
   "metadata": {},
   "outputs": [
    {
     "data": {
      "image/png": "[encoded data removed]",
      "text/plain": [
       "<Figure size 432x288 with 1 Axes>"
      ]
     },
     "metadata": {
      "needs_background": "light"
     },
     "output_type": "display_data"
    }
   ],
   "source": [
    "#scatter plot\n",
    "plt.scatter(X,Y,color='black')\n",
    "plt.title('salary vs experience test set')\n",
    "plt.xlabel('years of experiance')\n",
    "plt.ylabel('salary')\n",
    "plt.show()"
   ]
  },
  {
   "cell_type": "code",
   "execution_count": 31,
   "metadata": {},
   "outputs": [
    {
     "name": "stdout",
     "output_type": "stream",
     "text": [
      "X_train values:- [[ 3.2]\n",
      " [ 4.1]\n",
      " [ 1.1]\n",
      " [ 1.5]\n",
      " [ 5.3]\n",
      " [ 3.7]\n",
      " [ 8.2]\n",
      " [ 2.9]\n",
      " [ 2. ]\n",
      " [ 2.2]\n",
      " [ 1.3]\n",
      " [ 4. ]\n",
      " [ 9.6]\n",
      " [ 6.8]\n",
      " [ 5.9]\n",
      " [ 9. ]\n",
      " [ 9.5]\n",
      " [ 3.9]\n",
      " [10.3]\n",
      " [ 6. ]\n",
      " [ 5.1]\n",
      " [ 7.9]\n",
      " [ 3. ]\n",
      " [ 7.1]]\n",
      "Y_train values:- [ 54445.  57081.  39343.  37731.  83088.  57189. 113812.  56642.  43525.\n",
      "  39891.  46205.  55794. 112635.  91738.  81363. 105582. 116969.  63218.\n",
      " 122391.  93940.  66029. 101302.  60150.  98273.]\n"
     ]
    }
   ],
   "source": [
    "#spliting the data into test and train\n",
    "from sklearn.model_selection import train_test_split\n",
    "X_train,X_test,Y_train,Y_test=train_test_split(X,Y,test_size=0.2)\n",
    "print('X_train values:-',X_train)\n",
    "print('Y_train values:-',Y_train)"
   ]
  },
  {
   "cell_type": "code",
   "execution_count": 34,
   "metadata": {},
   "outputs": [],
   "source": [
    "#creating a regressor as reg\n",
    "from sklearn.linear_model import LinearRegression\n",
    "reg=LinearRegression()"
   ]
  },
  {
   "cell_type": "code",
   "execution_count": 35,
   "metadata": {},
   "outputs": [
    {
     "data": {
      "text/plain": [
       "LinearRegression(copy_X=True, fit_intercept=True, n_jobs=None,\n",
       "         normalize=False)"
      ]
     },
     "execution_count": 35,
     "metadata": {},
     "output_type": "execute_result"
    }
   ],
   "source": [
    "#fitting the train data\n",
    "reg.fit(X_train,Y_train)"
   ]
  },
  {
   "cell_type": "code",
   "execution_count": 40,
   "metadata": {},
   "outputs": [
    {
     "name": "stdout",
     "output_type": "stream",
     "text": [
      "[[ 3.2]\n",
      " [10.5]\n",
      " [ 8.7]\n",
      " [ 4.9]\n",
      " [ 4. ]\n",
      " [ 4.5]]\n"
     ]
    }
   ],
   "source": [
    "print(X_test)"
   ]
  },
  {
   "cell_type": "code",
   "execution_count": 41,
   "metadata": {},
   "outputs": [
    {
     "name": "stdout",
     "output_type": "stream",
     "text": [
      "[ 64445. 121872. 109431.  67938.  56957.  61111.]\n"
     ]
    }
   ],
   "source": [
    "print(Y_test)"
   ]
  },
  {
   "cell_type": "code",
   "execution_count": 73,
   "metadata": {},
   "outputs": [
    {
     "data": {
      "text/plain": [
       "array([311726.20004977])"
      ]
     },
     "execution_count": 73,
     "metadata": {},
     "output_type": "execute_result"
    }
   ],
   "source": [
    "#check for 30\n",
    "\n",
    "c=[]\n",
    "d=[30]\n",
    "c=[d]\n",
    "reg.predict(c)"
   ]
  },
  {
   "cell_type": "code",
   "execution_count": null,
   "metadata": {},
   "outputs": [],
   "source": []
  },
  {
   "cell_type": "code",
   "execution_count": 82,
   "metadata": {},
   "outputs": [
    {
     "data": {
      "image/png": "[encoded data removed]",
      "text/plain": [
       "<Figure size 432x288 with 1 Axes>"
      ]
     },
     "metadata": {
      "needs_background": "light"
     },
     "output_type": "display_data"
    }
   ],
   "source": [
    "#ploting the regression line over train points\n",
    "plt.scatter(X_train,Y_train,color='black')\n",
    "plt.plot(X_train,reg.predict(X_train),color='purple')\n",
    "plt.title('salary vs experience test set')\n",
    "plt.xlabel('years of experiance')\n",
    "plt.ylabel('salary')\n",
    "plt.show()"
   ]
  },
  {
   "cell_type": "code",
   "execution_count": 64,
   "metadata": {},
   "outputs": [
    {
     "data": {
      "text/plain": [
       "array([25856.34083476])"
      ]
     },
     "execution_count": 64,
     "metadata": {},
     "output_type": "execute_result"
    }
   ],
   "source": [
    "#b=intercept\n",
    "#y=mx+b\n",
    "#for intercept x=0,so y=b\n",
    "#y=reg.predict([[0]])\n",
    "b=reg.predict([[0]])\n",
    "b\n"
   ]
  },
  {
   "cell_type": "code",
   "execution_count": 65,
   "metadata": {},
   "outputs": [
    {
     "data": {
      "text/plain": [
       "25856.340834755414"
      ]
     },
     "execution_count": 65,
     "metadata": {},
     "output_type": "execute_result"
    }
   ],
   "source": [
    "#inbuilt function\n",
    "reg.intercept_"
   ]
  },
  {
   "cell_type": "code",
   "execution_count": 66,
   "metadata": {},
   "outputs": [
    {
     "data": {
      "text/plain": [
       "array([9528.99530717])"
      ]
     },
     "execution_count": 66,
     "metadata": {},
     "output_type": "execute_result"
    }
   ],
   "source": [
    "# finding the slope y=mx+b\n",
    "# m=(y-b)/x\n",
    "# let x=30\n",
    "yy=reg.predict([[30]])\n",
    "m=(yy-b)/30\n",
    "m"
   ]
  },
  {
   "cell_type": "code",
   "execution_count": 67,
   "metadata": {},
   "outputs": [
    {
     "data": {
      "text/plain": [
       "array([9528.99530717])"
      ]
     },
     "execution_count": 67,
     "metadata": {},
     "output_type": "execute_result"
    }
   ],
   "source": [
    "#inbuilt function\n",
    "reg.coef_"
   ]
  },
  {
   "cell_type": "code",
   "execution_count": 72,
   "metadata": {},
   "outputs": [
    {
     "data": {
      "text/plain": [
       "0.9585828333350112"
      ]
     },
     "execution_count": 72,
     "metadata": {},
     "output_type": "execute_result"
    }
   ],
   "source": [
    "reg.score(X_train,Y_train)"
   ]
  },
  {
   "cell_type": "code",
   "execution_count": 75,
   "metadata": {},
   "outputs": [],
   "source": [
    "Y_Pred=reg.predict(X_test)"
   ]
  },
  {
   "cell_type": "code",
   "execution_count": 77,
   "metadata": {},
   "outputs": [
    {
     "name": "stdout",
     "output_type": "stream",
     "text": [
      "R2 score = 0.9\n"
     ]
    }
   ],
   "source": [
    "import sklearn.metrics as sm\n",
    "print(\"R2 score =\", round(sm.r2_score(Y_test, Y_Pred), 1))"
   ]
  },
  {
   "cell_type": "code",
   "execution_count": 80,
   "metadata": {},
   "outputs": [
    {
     "name": "stdout",
     "output_type": "stream",
     "text": [
      "Mean absolute error = 5343.1\n",
      "Mean squared error = 35155160.08\n",
      "Median absolute error = 5812.87\n",
      "Explain variance score = 0.95\n"
     ]
    }
   ],
   "source": [
    "print(\"Mean absolute error =\", round(sm.mean_absolute_error(Y_test, Y_Pred), 2)) \n",
    "print(\"Mean squared error =\", round(sm.mean_squared_error(Y_test, Y_Pred), 2)) \n",
    "print(\"Median absolute error =\", round(sm.median_absolute_error(Y_test, Y_Pred), 2)) \n",
    "print(\"Explain variance score =\", round(sm.explained_variance_score(Y_test, Y_Pred), 2))"
   ]
  },
  {
   "cell_type": "code",
   "execution_count": null,
   "metadata": {},
   "outputs": [],
   "source": []
  }
 ],
 "metadata": {
  "kernelspec": {
   "display_name": "Python 3",
   "language": "python",
   "name": "python3"
  },
  "language_info": {
   "codemirror_mode": {
    "name": "ipython",
    "version": 3
   },
   "file_extension": ".py",
   "mimetype": "text/x-python",
   "name": "python",
   "nbconvert_exporter": "python",
   "pygments_lexer": "ipython3",
   "version": "3.7.3"
  }
 },
 "nbformat": 4,
 "nbformat_minor": 2
}
